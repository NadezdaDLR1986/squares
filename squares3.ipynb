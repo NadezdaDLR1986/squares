{
  "nbformat": 4,
  "nbformat_minor": 0,
  "metadata": {
    "colab": {
      "provenance": [],
      "history_visible": true,
      "authorship_tag": "ABX9TyOQFXOZrJ6wNXuBB6JLha8c",
      "include_colab_link": true
    },
    "kernelspec": {
      "name": "python3",
      "display_name": "Python 3"
    },
    "language_info": {
      "name": "python"
    }
  },
  "cells": [
    {
      "cell_type": "markdown",
      "metadata": {
        "id": "view-in-github",
        "colab_type": "text"
      },
      "source": [
        "<a href=\"https://colab.research.google.com/github/NadezdaDLR1986/squares/blob/main/squares3.ipynb\" target=\"_parent\"><img src=\"https://colab.research.google.com/assets/colab-badge.svg\" alt=\"Open In Colab\"/></a>"
      ]
    },
    {
      "cell_type": "code",
      "source": [
        "import math\n",
        "\n",
        "x = 8\n",
        "y = 9\n",
        "\n",
        "def  square(n):\n",
        "     return n * n\n",
        "\n",
        "def perimeter(x, y):\n",
        "   return (x + y) * 2\n",
        "\n",
        "\n",
        "\n",
        "print(square(x))\n",
        "print(square(y))\n",
        "\n",
        "print(perimeter(x, y))"
      ],
      "metadata": {
        "colab": {
          "base_uri": "https://localhost:8080/"
        },
        "id": "Xrfs8d5z-qJW",
        "outputId": "a4adf0de-1e49-4a23-f1ec-970d8b4f0e50"
      },
      "execution_count": 8,
      "outputs": [
        {
          "output_type": "stream",
          "name": "stdout",
          "text": [
            "64\n",
            "81\n",
            "34\n"
          ]
        }
      ]
    }
  ]
}